{
  "nbformat": 4,
  "nbformat_minor": 0,
  "metadata": {
    "colab": {
      "name": "Tag predictor",
      "version": "0.3.2",
      "provenance": []
    },
    "kernelspec": {
      "name": "python3",
      "display_name": "Python 3"
    }
  },
  "cells": [
    {
      "cell_type": "markdown",
      "metadata": {
        "id": "view-in-github",
        "colab_type": "text"
      },
      "source": [
        "[View in Colaboratory](https://colab.research.google.com/github/duyetdev/tag-predictor/blob/master/notebook/tag-predictor.ipynb)"
      ]
    },
    {
      "metadata": {
        "id": "2WkJzleSQtpS",
        "colab_type": "code",
        "colab": {}
      },
      "cell_type": "code",
      "source": [
        "import tensorflow as tf\n",
        "import math"
      ],
      "execution_count": 0,
      "outputs": []
    },
    {
      "metadata": {
        "id": "cSljQPm5SNdj",
        "colab_type": "code",
        "colab": {}
      },
      "cell_type": "code",
      "source": [
        "batch_size = 128\n",
        "embedding_size = 128  # Dimension of the embedding vector.\n",
        "skip_window = 1  # How many words to consider left and right.\n",
        "num_skips = 2  # How many times to reuse an input to generate a label.\n",
        "num_sampled = 64  # Number of negative examples to sample."
      ],
      "execution_count": 0,
      "outputs": []
    },
    {
      "metadata": {
        "id": "Kj19J8yuT48F",
        "colab_type": "code",
        "colab": {}
      },
      "cell_type": "code",
      "source": [
        "vocabulary_size = 50000\n"
      ],
      "execution_count": 0,
      "outputs": []
    },
    {
      "metadata": {
        "id": "vqLAiB1gSJIH",
        "colab_type": "text"
      },
      "cell_type": "markdown",
      "source": [
        "# Init variables"
      ]
    },
    {
      "metadata": {
        "id": "BI_oYz-5SEp0",
        "colab_type": "code",
        "colab": {}
      },
      "cell_type": "code",
      "source": [
        "# Embedding matrx\n",
        "embeddings = tf.Variable(\n",
        "    tf.random_uniform([vocabulary_size, embedding_size], -1.0, 1.0))\n",
        "\n",
        "# weights and biases for each word in the vocabulary\n",
        "nce_weights = tf.Variable(\n",
        "    tf.truncated_normal([vocabulary_size, embedding_size],\n",
        "                       stddev=1.0 / math.sqrt(embedding_size)))\n",
        "\n",
        "nce_biases = tf.Variable(tf.zeros([vocabulary_size]))"
      ],
      "execution_count": 0,
      "outputs": []
    },
    {
      "metadata": {
        "id": "t5DKhu2bSQoz",
        "colab_type": "code",
        "colab": {}
      },
      "cell_type": "code",
      "source": [
        "# Placeholder for inputs\n",
        "train_inputs = tf.placeholder(tf.int32, shape=[batch_size])\n",
        "train_labels = tf.placeholder(tf.int32, shape=[batch_size, 1])\n",
        "\n",
        "embed = tf.nn.embedding_lookup(embeddings, train_inputs)"
      ],
      "execution_count": 0,
      "outputs": []
    },
    {
      "metadata": {
        "id": "cm-A2o3eToQe",
        "colab_type": "text"
      },
      "cell_type": "markdown",
      "source": [
        "# Loss function"
      ]
    },
    {
      "metadata": {
        "id": "wIZ90qXDSSaX",
        "colab_type": "code",
        "colab": {}
      },
      "cell_type": "code",
      "source": [
        "# Compute the NCE loss, using a sample of the negative labels each time.\n",
        "loss = tf.reduce_mean(\n",
        "  tf.nn.nce_loss(weights=nce_weights,\n",
        "                 biases=nce_biases,\n",
        "                 labels=train_labels,\n",
        "                 inputs=embed,\n",
        "                 num_sampled=num_sampled,\n",
        "                 num_classes=vocabulary_size))"
      ],
      "execution_count": 0,
      "outputs": []
    },
    {
      "metadata": {
        "id": "-oTdh3puTra_",
        "colab_type": "code",
        "colab": {}
      },
      "cell_type": "code",
      "source": [
        "# We use the SGD optimizer.\n",
        "optimizer = tf.train.GradientDescentOptimizer(learning_rate=1.0).minimize(loss)"
      ],
      "execution_count": 0,
      "outputs": []
    },
    {
      "metadata": {
        "id": "87Yc0slsUBYp",
        "colab_type": "text"
      },
      "cell_type": "markdown",
      "source": [
        "# Repair data"
      ]
    },
    {
      "metadata": {
        "id": "yKb8gVfwT-eW",
        "colab_type": "code",
        "colab": {}
      },
      "cell_type": "code",
      "source": [
        "pass"
      ],
      "execution_count": 0,
      "outputs": []
    },
    {
      "metadata": {
        "id": "qWC49mVkUEBh",
        "colab_type": "text"
      },
      "cell_type": "markdown",
      "source": [
        "# Train the model"
      ]
    },
    {
      "metadata": {
        "id": "xBLmPgVWUDGO",
        "colab_type": "code",
        "colab": {}
      },
      "cell_type": "code",
      "source": [
        "# for inputs, labels in generate_batch(...):\n",
        "#   feed_dict = {train_inputs: inputs, train_labels: labels}\n",
        "#   _, cur_loss = session.run([optimizer, loss], feed_dict=feed_dict)"
      ],
      "execution_count": 0,
      "outputs": []
    },
    {
      "metadata": {
        "id": "2ITtJALHUKok",
        "colab_type": "text"
      },
      "cell_type": "markdown",
      "source": [
        "# Visualize the learned embeddings using t-SNE"
      ]
    },
    {
      "metadata": {
        "id": "fm1_COtuUOcM",
        "colab_type": "code",
        "colab": {}
      },
      "cell_type": "code",
      "source": [
        "pass"
      ],
      "execution_count": 0,
      "outputs": []
    },
    {
      "metadata": {
        "id": "1AphFFV6URk7",
        "colab_type": "text"
      },
      "cell_type": "markdown",
      "source": [
        "# Classifier"
      ]
    },
    {
      "metadata": {
        "id": "Qs-XY5ZKUQc_",
        "colab_type": "code",
        "colab": {}
      },
      "cell_type": "code",
      "source": [
        "pass"
      ],
      "execution_count": 0,
      "outputs": []
    },
    {
      "metadata": {
        "id": "sZsEjDEYUUO9",
        "colab_type": "code",
        "colab": {}
      },
      "cell_type": "code",
      "source": [
        ""
      ],
      "execution_count": 0,
      "outputs": []
    }
  ]
}